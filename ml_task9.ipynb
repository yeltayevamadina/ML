{
 "cells": [
  {
   "cell_type": "code",
   "execution_count": 1,
   "metadata": {},
   "outputs": [
    {
     "name": "stdout",
     "output_type": "stream",
     "text": [
      "maximum binary space of this number 12564146512 (0b1011101100111000011010100101010000) is 4\n"
     ]
    }
   ],
   "source": [
    "def countSetBits(n):\n",
    "    t = False\n",
    "    l = []\n",
    "    count = 0\n",
    "    while n:\n",
    "        if((n & 1) and t):\n",
    "            t = False\n",
    "            l.append(count)\n",
    "            count = 0\n",
    "        if((n & 1) and not t):\n",
    "            t = True\n",
    "        if(not (n & 1) and t):\n",
    "            count += 1    \n",
    "        n >>= 1\n",
    "    return max(l)\n",
    " \n",
    " \n",
    "if __name__ == '__main__':\n",
    " \n",
    "    n = 12564146512\n",
    "    \n",
    " \n",
    "    print(f\"maximum binary space of this number {str(n)} ({bin(n)}) is {countSetBits(n)}\") #10110001"
   ]
  },
  {
   "cell_type": "code",
   "execution_count": null,
   "metadata": {},
   "outputs": [],
   "source": []
  }
 ],
 "metadata": {
  "kernelspec": {
   "display_name": "Python 3",
   "language": "python",
   "name": "python3"
  },
  "language_info": {
   "codemirror_mode": {
    "name": "ipython",
    "version": 3
   },
   "file_extension": ".py",
   "mimetype": "text/x-python",
   "name": "python",
   "nbconvert_exporter": "python",
   "pygments_lexer": "ipython3",
   "version": "3.8.5"
  }
 },
 "nbformat": 4,
 "nbformat_minor": 4
}
