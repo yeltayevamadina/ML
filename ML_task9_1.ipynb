{
 "cells": [
  {
   "cell_type": "code",
   "execution_count": 1,
   "metadata": {},
   "outputs": [
    {
     "name": "stdout",
     "output_type": "stream",
     "text": [
      "11\n"
     ]
    }
   ],
   "source": [
    "def crossed(x1,r1,x2,r2):\n",
    "    right1 = x1+r1\n",
    "    left2 = x2-r2\n",
    "    if right1>left2:\n",
    "        return True\n",
    "    return False\n",
    "l = [1,5,2,1,4,0]\n",
    "cnt = 0\n",
    "for i in range(len(l)-1):\n",
    "    for j in range(i+1,len(l)):\n",
    "        if crossed(i,l[i],j,l[j]):\n",
    "            #print(i,l[i],j,l[j])\n",
    "            cnt+=1\n",
    "print(cnt)"
   ]
  },
  {
   "cell_type": "code",
   "execution_count": 3,
   "metadata": {},
   "outputs": [],
   "source": [
    "def task2(a):\n",
    "    max = -10**9\n",
    "    for i in a:\n",
    "        if i>max:\n",
    "            max = i\n",
    "    indexes = []\n",
    "    for i in range(max):\n",
    "        indexes.append(False)\n",
    "    for i in range(len(a)):\n",
    "        indexes[a[i]-1] = not indexes[a[i]-1]\n",
    "    for i in indexes:\n",
    "        if i:\n",
    "            print(a[i])\n",
    "            break"
   ]
  },
  {
   "cell_type": "code",
   "execution_count": 4,
   "metadata": {},
   "outputs": [
    {
     "name": "stdout",
     "output_type": "stream",
     "text": [
      "3\n"
     ]
    }
   ],
   "source": [
    "a = [1,3,1,2,2]\n",
    "task2(a)"
   ]
  },
  {
   "cell_type": "code",
   "execution_count": 5,
   "metadata": {},
   "outputs": [],
   "source": [
    "def solution(A, B):\n",
    "    cnt = 0\n",
    "    st = []\n",
    "    live = []\n",
    "    for i in range(len(B)):\n",
    "        if not B[i]: # 0\n",
    "            if len(st) == 0:\n",
    "                live.append(i)\n",
    "            else:\n",
    "                while len(st):\n",
    "                    if A[st[-1]]<A[i]:\n",
    "                        st.pop()\n",
    "                    else:\n",
    "                        break\n",
    "                if len(st) == 0:\n",
    "                    live.append(i)\n",
    "        else:\n",
    "            st.append(i)\n",
    "    live += st\n",
    "    return len(live)"
   ]
  },
  {
   "cell_type": "code",
   "execution_count": 6,
   "metadata": {},
   "outputs": [
    {
     "name": "stdout",
     "output_type": "stream",
     "text": [
      "2\n"
     ]
    }
   ],
   "source": [
    "a = [4,3,2,1,5]\n",
    "b = [0,1,0,0,0]\n",
    "print(solution(a, b))"
   ]
  },
  {
   "cell_type": "code",
   "execution_count": null,
   "metadata": {},
   "outputs": [],
   "source": []
  }
 ],
 "metadata": {
  "kernelspec": {
   "display_name": "Python 3",
   "language": "python",
   "name": "python3"
  },
  "language_info": {
   "codemirror_mode": {
    "name": "ipython",
    "version": 3
   },
   "file_extension": ".py",
   "mimetype": "text/x-python",
   "name": "python",
   "nbconvert_exporter": "python",
   "pygments_lexer": "ipython3",
   "version": "3.8.5"
  }
 },
 "nbformat": 4,
 "nbformat_minor": 4
}
